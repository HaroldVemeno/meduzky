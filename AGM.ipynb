{
 "cells": [
  {
   "cell_type": "code",
   "execution_count": 132,
   "metadata": {},
   "outputs": [],
   "source": [
    "p = 251;\n",
    "F = GF(p);\n",
    "Q = quadratic_residues(p);\n",
    "Q.remove(0), Q.remove(1); #The set of admissible (1,a)\n",
    "Swarms = set(); #mini swarms of isomorphic jellyfish represented by the minimal couple (1,a),\n",
    "Checked = [];\n",
    "CycleLength = [];\n",
    "CycleGen = [];\n",
    "SwarmCount = [];\n",
    "\n",
    "for i in range(0,p):\n",
    "    Checked.insert(i,0)\n",
    "    CycleLength.insert(i,0)\n",
    "    CycleGen.insert(i,0)\n",
    "    SwarmCount.insert(i,0)\n"
   ]
  },
  {
   "cell_type": "code",
   "execution_count": 133,
   "metadata": {
    "scrolled": true
   },
   "outputs": [
    {
     "data": {
      "text/plain": [
       "31"
      ]
     },
     "execution_count": 133,
     "metadata": {},
     "output_type": "execute_result"
    }
   ],
   "source": [
    "MedusaNumber=0;\n",
    "SwarmNumber=0;\n",
    "for i in Q :\n",
    "    if Checked[i] == 1 :\n",
    "        continue\n",
    "    if kronecker(Integer(1-i*i),p) == -1 : #nefunguje is_square??????\n",
    "        continue\n",
    "    a = F(1)\n",
    "    b = F(i)\n",
    "    ji = 0\n",
    "    minn = Integer(b)\n",
    "    count = 0\n",
    "    while true : \n",
    "        ji=ji+1\n",
    "        X = (a+b) * F(2)^(-1)\n",
    "        Y = F(a*b).square_root()\n",
    "        Z = F(X)^(-1) * Y\n",
    "        if Z.is_square() == false :\n",
    "            Z = -Z\n",
    "            Y = -Y\n",
    "        if Z == F(i) :\n",
    "            count+=1\n",
    "        Checked[Integer(Z)] = 1\n",
    "        #print(Integer(a),Integer(b),Integer(X),Integer(Y), Integer(1), Integer(i))\n",
    "        a = X\n",
    "        b = Y\n",
    "        \n",
    "        minn = min(minn,Integer(Z))\n",
    "            \n",
    "        if Integer(a) == 1 and Integer(b) == i :    \n",
    "            Swarms.add(Integer(Z))\n",
    "            SwarmNumber+=1 \n",
    "            CycleLength[SwarmNumber] = ji   #??? length of cycle   \n",
    "            CycleGen[SwarmNumber] = minn\n",
    "            SwarmCount[SwarmNumber] = (p-1)/count\n",
    "            break\n",
    "\n",
    "            \n",
    "for i in range(1,SwarmNumber+1):\n",
    "    MedusaNumber+=SwarmCount[i]\n",
    "    #print(SwarmCount[i])\n",
    "    \n",
    "SwarmNumber,CycleLength[1],CycleGen[1], SwarmCount[1] #??\n",
    "MedusaNumber"
   ]
  },
  {
   "cell_type": "code",
   "execution_count": null,
   "metadata": {},
   "outputs": [],
   "source": []
  },
  {
   "cell_type": "code",
   "execution_count": null,
   "metadata": {},
   "outputs": [],
   "source": []
  }
 ],
 "metadata": {
  "kernelspec": {
   "display_name": "SageMath 9.2",
   "language": "sage",
   "name": "sagemath"
  },
  "language_info": {
   "codemirror_mode": {
    "name": "ipython",
    "version": 3
   },
   "file_extension": ".py",
   "mimetype": "text/x-python",
   "name": "python",
   "nbconvert_exporter": "python",
   "pygments_lexer": "ipython3",
   "version": "3.7.7"
  }
 },
 "nbformat": 4,
 "nbformat_minor": 4
}
