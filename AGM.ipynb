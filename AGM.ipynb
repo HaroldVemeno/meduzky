{
 "cells": [
  {
   "cell_type": "code",
   "execution_count": 97,
   "metadata": {},
   "outputs": [],
   "source": [
    "p = 19;\n",
    "SwarmNumber=0;\n",
    "F = GF(p);\n",
    "Q = quadratic_residues(p);\n",
    "Q.remove(0), Q.remove(1); #The set of admissible (1,a)\n",
    "Swarms = set(); #mini swarms of isomorphic jellyfish represented by the minimal couple (1,a)\n",
    "Checked = [];\n",
    "CycleLength = [];\n",
    "for i in range(0,p):\n",
    "    Checked.insert(i,0)\n"
   ]
  },
  {
   "cell_type": "code",
   "execution_count": 105,
   "metadata": {},
   "outputs": [
    {
     "data": {
      "text/plain": [
       "0"
      ]
     },
     "execution_count": 105,
     "metadata": {},
     "output_type": "execute_result"
    }
   ],
   "source": [
    "for i in Q:\n",
    "    if Checked[i] == 1 :\n",
    "        continue\n",
    "    if kronecker(i-1,p)*kronecker(i+1,p) == -1 :\n",
    "        continue\n",
    "    a = F(1)\n",
    "    b = F(i)\n",
    "    j = 1\n",
    "    minn = b \n",
    "    while true:\n",
    "        j+=1\n",
    "        X = (a+b)/2\n",
    "        Y = F(a*b).square_root()\n",
    "        Z = F(X)^(-1) * Y\n",
    "        if kronecker(Z,p) == -1 :\n",
    "            Z = -Z\n",
    "                   \n",
    "        Checked[Z] = 1\n",
    "       \n",
    "        if Integer(Z) < minn :\n",
    "            minn = Integer(Z)\n",
    "            \n",
    "        Checked.insert(Integer(Z),1)\n",
    "        if a == F(1) and b == F(i) :\n",
    "            Swarms.add(Integer(Z))\n",
    "            SwarmNumber+=1 \n",
    "            CycleLength[SwarmNumber] = j-1   #??? length of cycle       \n",
    "        break\n",
    "        \n",
    "SwarmNumber      "
   ]
  },
  {
   "cell_type": "code",
   "execution_count": null,
   "metadata": {},
   "outputs": [],
   "source": []
  },
  {
   "cell_type": "code",
   "execution_count": null,
   "metadata": {},
   "outputs": [],
   "source": []
  }
 ],
 "metadata": {
  "kernelspec": {
   "display_name": "SageMath 9.2",
   "language": "sage",
   "name": "sagemath"
  },
  "language_info": {
   "codemirror_mode": {
    "name": "ipython",
    "version": 3
   },
   "file_extension": ".py",
   "mimetype": "text/x-python",
   "name": "python",
   "nbconvert_exporter": "python",
   "pygments_lexer": "ipython3",
   "version": "3.7.7"
  }
 },
 "nbformat": 4,
 "nbformat_minor": 4
}
